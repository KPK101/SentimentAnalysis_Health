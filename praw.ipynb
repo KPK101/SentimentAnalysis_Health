{
 "cells": [
  {
   "cell_type": "code",
   "execution_count": 1,
   "id": "4200158d-7ff7-4d8e-be9d-3d0ec90e16e7",
   "metadata": {},
   "outputs": [],
   "source": [
    "import praw"
   ]
  },
  {
   "cell_type": "code",
   "execution_count": 1,
   "id": "04aeff8c-5dce-45d0-9d18-4f137cb41313",
   "metadata": {},
   "outputs": [],
   "source": [
    "from reddit_auth import client_id, client_secret, user_agent"
   ]
  },
  {
   "cell_type": "code",
   "execution_count": 2,
   "id": "f7ca706c-6288-41bb-987f-de54355967f9",
   "metadata": {},
   "outputs": [
    {
     "name": "stdout",
     "output_type": "stream",
     "text": [
      "True\n"
     ]
    }
   ],
   "source": [
    "import praw\n",
    "\n",
    "reddit = praw.Reddit(\n",
    "    client_id=client_id,\n",
    "    client_secret=client_secret, \n",
    "    # password=\"my password\",\n",
    "    user_agent=user_agent,\n",
    "    # username=\"No-Championship2008\",\n",
    ")\n",
    "\n",
    "print(reddit.read_only)\n",
    "# Output: False"
   ]
  },
  {
   "cell_type": "code",
   "execution_count": 90,
   "id": "65afe7af-5196-444a-b814-1f8e7e51b0cf",
   "metadata": {},
   "outputs": [],
   "source": [
    "top_ = []"
   ]
  },
  {
   "cell_type": "code",
   "execution_count": 93,
   "id": "0b30a1c7-f83a-4dda-a0bd-85c4cb3fd29a",
   "metadata": {},
   "outputs": [
    {
     "data": {
      "text/plain": [
       "\"I didn't think much of this when I lived in Florida. Many products were labeled in Florida ounces. But now that I live in another state I'm surprised to see products still labeled with Florida ounces. \\n\\nI looked up 'Florida ounces' but couldn't find much information about them. Google doesn't know how to convert them to regular ounces.\""
      ]
     },
     "execution_count": 93,
     "metadata": {},
     "output_type": "execute_result"
    }
   ],
   "source": [
    "top_[0].selftext"
   ]
  },
  {
   "cell_type": "code",
   "execution_count": 83,
   "id": "a12159c9-7b46-4bcd-a5f3-983f5282150b",
   "metadata": {},
   "outputs": [
    {
     "data": {
      "text/plain": [
       "Comment(id='d9yjdl3')"
      ]
     },
     "execution_count": 83,
     "metadata": {},
     "output_type": "execute_result"
    }
   ],
   "source": [
    "top_[0].comments.list()[0]"
   ]
  },
  {
   "cell_type": "code",
   "execution_count": 152,
   "id": "5ecc7acb-8ccf-416d-81b8-5ab3ad8e0cf7",
   "metadata": {},
   "outputs": [],
   "source": [
    "from datetime import datetime, timezone, timedelta"
   ]
  },
  {
   "cell_type": "code",
   "execution_count": 158,
   "id": "2eb72d5d-ade0-4f1a-ad67-f99509f64f0f",
   "metadata": {},
   "outputs": [
    {
     "name": "stdout",
     "output_type": "stream",
     "text": [
      "UTC Time: 2022-02-08 17:29:31.000000 UTC\n"
     ]
    }
   ],
   "source": [
    "# Assuming the float represents milliseconds since the Unix epoch\n",
    "utc_float = 1651234567890  # Example float in milliseconds\n",
    "\n",
    "# Convert float to integer milliseconds\n",
    "utc_seconds = int(top_[0].created_utc)\n",
    "\n",
    "# Convert to a datetime object\n",
    "dt = datetime.fromtimestamp(utc_seconds , tz=timezone.utc)\n",
    "\n",
    "# Print the formatted datetime\n",
    "print(\"UTC Time:\", dt.strftime('%Y-%m-%d %H:%M:%S.%f %Z'))"
   ]
  },
  {
   "cell_type": "code",
   "execution_count": 182,
   "id": "7df8630f-69f4-4b22-bb5a-bcd98285aeda",
   "metadata": {},
   "outputs": [
    {
     "name": "stdout",
     "output_type": "stream",
     "text": [
      "unpopular\n"
     ]
    }
   ],
   "source": [
    "subs = subreddit.contributor\n",
    "print(subs.subreddit)"
   ]
  },
  {
   "cell_type": "code",
   "execution_count": 159,
   "id": "18b03c63-5b2e-493e-b473-31828ac04dfd",
   "metadata": {},
   "outputs": [
    {
     "name": "stdout",
     "output_type": "stream",
     "text": [
      "Title -  Abigail Elphick, the Victoria's Secret Karen, is truly innocent\n",
      "ID -  su8wzh\n",
      "Author -  None\n",
      "URL -  https://www.reddit.com/r/unpopular/comments/su8wzh/abigail_elphick_the_victorias_secret_karen_is/\n",
      "Score -  93\n",
      "Commnets -  607\n",
      "Created -  1645052126.0\n",
      "\n",
      "\n",
      "Title -  Gender Fluid is a bullshit term\n",
      "ID -  r6qgn9\n",
      "Author -  redditistrash97\n",
      "URL -  https://www.reddit.com/r/unpopular/comments/r6qgn9/gender_fluid_is_a_bullshit_term/\n",
      "Score -  72\n",
      "Commnets -  53\n",
      "Created -  1638396073.0\n",
      "\n",
      "\n",
      "Title -  \"Ok boomer\" is immature and stupid.\n",
      "ID -  dsoyaa\n",
      "Author -  FreedomFace67\n",
      "URL -  https://www.reddit.com/r/unpopular/comments/dsoyaa/ok_boomer_is_immature_and_stupid/\n",
      "Score -  63\n",
      "Commnets -  38\n",
      "Created -  1573084434.0\n",
      "\n",
      "\n",
      "Title -  Shitty kids are the result of shitty parents. If your kid is a brat, they learned it from you. Time to get your shit together instead of telling them they are the problem.\n",
      "ID -  c3e4w5\n",
      "Author -  SherpaJones\n",
      "URL -  https://www.reddit.com/r/unpopular/comments/c3e4w5/shitty_kids_are_the_result_of_shitty_parents_if/\n",
      "Score -  56\n",
      "Commnets -  5\n",
      "Created -  1561140470.0\n",
      "\n",
      "\n",
      "Title -  Paying for \"OnlyFans\" girls is just a stupid way to throw your money\n",
      "ID -  mnvgx0\n",
      "Author -  Newblackzeth\n",
      "URL -  https://www.reddit.com/r/unpopular/comments/mnvgx0/paying_for_onlyfans_girls_is_just_a_stupid_way_to/\n",
      "Score -  49\n",
      "Commnets -  41\n",
      "Created -  1618018906.0\n",
      "\n",
      "\n",
      "Title -  Reddit encourages caving in to popular opinions\n",
      "ID -  gtnvll\n",
      "Author -  RoastToast3\n",
      "URL -  https://www.reddit.com/r/unpopular/comments/gtnvll/reddit_encourages_caving_in_to_popular_opinions/\n",
      "Score -  51\n",
      "Commnets -  6\n",
      "Created -  1590879818.0\n",
      "\n",
      "\n",
      "Title -  Everybody is a little racist\n",
      "ID -  bnu7t2\n",
      "Author -  Psycho5quid\n",
      "URL -  https://www.reddit.com/r/unpopular/comments/bnu7t2/everybody_is_a_little_racist/\n",
      "Score -  48\n",
      "Commnets -  24\n",
      "Created -  1557695372.0\n",
      "\n",
      "\n",
      "Title -  Liberals are stupid.\n",
      "ID -  sryqdm\n",
      "Author -  None\n",
      "URL -  https://www.reddit.com/r/unpopular/comments/sryqdm/liberals_are_stupid/\n",
      "Score -  50\n",
      "Commnets -  54\n",
      "Created -  1644803249.0\n",
      "\n",
      "\n",
      "Title -  I can’t stand Billie Eilish\n",
      "ID -  fz52ry\n",
      "Author -  gryumtwombly\n",
      "URL -  https://www.reddit.com/r/unpopular/comments/fz52ry/i_cant_stand_billie_eilish/\n",
      "Score -  46\n",
      "Commnets -  48\n",
      "Created -  1586611128.0\n",
      "\n",
      "\n",
      "Title -  Pictures of babies covered in food or whatever other goo aren't cute\n",
      "ID -  t49oq9\n",
      "Author -  aedroogo\n",
      "URL -  https://www.reddit.com/r/unpopular/comments/t49oq9/pictures_of_babies_covered_in_food_or_whatever/\n",
      "Score -  43\n",
      "Commnets -  3\n",
      "Created -  1646146442.0\n",
      "\n",
      "\n"
     ]
    }
   ],
   "source": [
    "subreddit = reddit.subreddit(\"unpopular\")\n",
    "top_posts = subreddit.top(limit=10)\n",
    "new_posts = subreddit.new(limit=10)\n",
    "\n",
    "for post in top_posts:\n",
    "    print(\"Title - \", post.title)\n",
    "    print(\"ID - \", post.id)\n",
    "    print(\"Author - \", post.author)\n",
    "    print(\"URL - \", post.url)\n",
    "    print(\"Score - \", post.score)\n",
    "    print(\"Commnets - \", post.num_comments)\n",
    "    print(\"Created - \", post.created_utc)\n",
    "    print(\"\\n\")\n",
    "    top_.append(post)"
   ]
  }
 ],
 "metadata": {
  "kernelspec": {
   "display_name": "Python 3 (ipykernel)",
   "language": "python",
   "name": "python3"
  },
  "language_info": {
   "codemirror_mode": {
    "name": "ipython",
    "version": 3
   },
   "file_extension": ".py",
   "mimetype": "text/x-python",
   "name": "python",
   "nbconvert_exporter": "python",
   "pygments_lexer": "ipython3",
   "version": "3.10.5"
  }
 },
 "nbformat": 4,
 "nbformat_minor": 5
}
