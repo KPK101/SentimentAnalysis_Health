{
 "cells": [
  {
   "cell_type": "code",
   "execution_count": 1,
   "id": "4200158d-7ff7-4d8e-be9d-3d0ec90e16e7",
   "metadata": {},
   "outputs": [],
   "source": [
    "import praw"
   ]
  },
  {
   "cell_type": "code",
   "execution_count": null,
   "id": "f2999ec1-7c83-4435-902c-f79d10950f98",
   "metadata": {},
   "outputs": [],
   "source": [
    "reddit = secret = "
   ]
  },
  {
   "cell_type": "code",
   "execution_count": null,
   "id": "f7ca706c-6288-41bb-987f-de54355967f9",
   "metadata": {},
   "outputs": [],
   "source": [
    "import praw\n",
    "\n",
    "reddit = praw.Reddit(\n",
    "    client_id=\"my client id\",\n",
    "    client_secret=\"rzzqEsCULj_crd7eEcz6CQ\",\n",
    "    password=\"my password\",\n",
    "    user_agent=\"my user agent\",\n",
    "    username=\"my username\",\n",
    ")\n",
    "\n",
    "print(reddit.read_only)\n",
    "# Output: False"
   ]
  }
 ],
 "metadata": {
  "kernelspec": {
   "display_name": "Python 3 (ipykernel)",
   "language": "python",
   "name": "python3"
  },
  "language_info": {
   "codemirror_mode": {
    "name": "ipython",
    "version": 3
   },
   "file_extension": ".py",
   "mimetype": "text/x-python",
   "name": "python",
   "nbconvert_exporter": "python",
   "pygments_lexer": "ipython3",
   "version": "3.10.5"
  }
 },
 "nbformat": 4,
 "nbformat_minor": 5
}
