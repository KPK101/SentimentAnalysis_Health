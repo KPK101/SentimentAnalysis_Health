{
 "cells": [
  {
   "cell_type": "code",
   "execution_count": 5,
   "id": "77435377-2f08-4494-909a-09169ddcdaa4",
   "metadata": {},
   "outputs": [],
   "source": [
    "import torch\n",
    "import praw"
   ]
  },
  {
   "cell_type": "code",
   "execution_count": 6,
   "id": "83abb608-3342-480b-b5dc-918d9b9599c6",
   "metadata": {},
   "outputs": [],
   "source": [
    "import torch.nn as nn"
   ]
  },
  {
   "cell_type": "code",
   "execution_count": 22,
   "id": "3b1301ff-6ff0-4254-8691-3406ded92e80",
   "metadata": {},
   "outputs": [],
   "source": [
    "seq = nn.Sequential(\n",
    "    nn.Conv2d(3, 10, 3),\n",
    "    nn.ReLU(),\n",
    "    nn.Conv2d(10,2, 3),\n",
    "    nn.Softmax(0)\n",
    ")"
   ]
  },
  {
   "cell_type": "code",
   "execution_count": 19,
   "id": "3d328f24-6195-40a1-8755-2caa7a1fe26c",
   "metadata": {},
   "outputs": [],
   "source": [
    "from torchsummary import summary"
   ]
  },
  {
   "cell_type": "code",
   "execution_count": 23,
   "id": "fd87f992-4272-48da-89ae-58502f81c119",
   "metadata": {},
   "outputs": [
    {
     "name": "stdout",
     "output_type": "stream",
     "text": [
      "----------------------------------------------------------------\n",
      "        Layer (type)               Output Shape         Param #\n",
      "================================================================\n",
      "            Conv2d-1           [-1, 10, 23, 23]             280\n",
      "              ReLU-2           [-1, 10, 23, 23]               0\n",
      "            Conv2d-3            [-1, 2, 21, 21]             182\n",
      "           Softmax-4            [-1, 2, 21, 21]               0\n",
      "================================================================\n",
      "Total params: 462\n",
      "Trainable params: 462\n",
      "Non-trainable params: 0\n",
      "----------------------------------------------------------------\n",
      "Input size (MB): 0.01\n",
      "Forward/backward pass size (MB): 0.09\n",
      "Params size (MB): 0.00\n",
      "Estimated Total Size (MB): 0.10\n",
      "----------------------------------------------------------------\n"
     ]
    }
   ],
   "source": [
    "summary(seq, (3,25,25))"
   ]
  }
 ],
 "metadata": {
  "kernelspec": {
   "display_name": "Python 3 (ipykernel)",
   "language": "python",
   "name": "python3"
  },
  "language_info": {
   "codemirror_mode": {
    "name": "ipython",
    "version": 3
   },
   "file_extension": ".py",
   "mimetype": "text/x-python",
   "name": "python",
   "nbconvert_exporter": "python",
   "pygments_lexer": "ipython3",
   "version": "3.10.5"
  }
 },
 "nbformat": 4,
 "nbformat_minor": 5
}
